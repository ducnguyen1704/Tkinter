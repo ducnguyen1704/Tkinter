{
 "cells": [
  {
   "cell_type": "markdown",
   "metadata": {},
   "source": [
    "# Chương trình tạo giao diện máy tính"
   ]
  },
  {
   "cell_type": "code",
   "execution_count": 2,
   "metadata": {},
   "outputs": [],
   "source": [
    "from tkinter import *\n",
    "def btnClick(numbers):\n",
    "    global operator\n",
    "    operator = operator + str(numbers)\n",
    "    text_input.set(operator)\n",
    "def btnClear():\n",
    "    global operator\n",
    "    operator = \"\"\n",
    "    text_input.set(\"\") \n",
    "def btnEquals():\n",
    "    global operator\n",
    "    result=str(eval(operator)) # hàm eval có thể tính được chuỗi biểu thức.\n",
    "    text_input.set(result) \n",
    "win = Tk()\n",
    "win.geometry(\"500x500\")\n",
    "win.title(\"Calculature\")\n",
    "operator = \"\"\n",
    "text_input = StringVar()\n",
    "txtDisplay = Entry(win, width=30, font=('arial',20,'bold'), textvariable=text_input, bd=30, insertwidth=4,bg='gray',justify='right').grid(columnspan=4)\n",
    "# Vẽ các nút: bd= boder\n",
    "btnclear = Button(win,padx=30, bd=8,fg=\"black\",font=('arial',20,'bold'), text=\"AC\",command=btnClear, bg=\"yellow\").grid(row = 1, column = 0)\n",
    "btsub = Button(win,padx=30, bd=8,fg=\"black\",font=('arial',20,'bold'), text=\"+/-\", bg=\"yellow\").grid(row = 1, column = 1)\n",
    "btcount = Button(win,padx=30, bd=8,fg=\"black\",font=('arial',20,'bold'), text=\"%\", bg=\"yellow\").grid(row = 1, column = 2)\n",
    "btdevide = Button(win,padx=30, bd=8,fg=\"black\",font=('arial',20,'bold'), text=\"/\",command=lambda:btnClick(\"/\"),bg=\"yellow\").grid(row = 1, column = 3)\n",
    "#############\n",
    "bt7 = Button(win,padx=35, bd=8,fg=\"black\",font=('arial',20,'bold'), text=\"7\", command=lambda:btnClick(7),bg=\"gray\").grid(row = 2, column = 0)\n",
    "bt8 = Button(win,padx=35, bd=8,fg=\"black\",font=('arial',20,'bold'), text=\"8\", command=lambda:btnClick(8),bg=\"gray\").grid(row = 2, column = 1)\n",
    "bt9 = Button(win,padx=35, bd=8,fg=\"black\",font=('arial',20,'bold'), text=\"9\", command=lambda:btnClick(9),bg=\"gray\").grid(row = 2, column = 2)\n",
    "bt10 = Button(win,padx=30, bd=8,fg=\"black\",font=('arial',20,'bold'), text=\"x\", command=lambda:btnClick(\"*\"),bg=\"yellow\").grid(row = 2, column = 3)\n",
    "#Hàng 3:\n",
    "bt4 = Button(win,padx=35, bd=8,fg=\"black\",font=('arial',20,'bold'), text=\"4\",command=lambda:btnClick(4), bg=\"gray\").grid(row = 3, column = 0)\n",
    "bt5 = Button(win,padx=35, bd=8,fg=\"black\",font=('arial',20,'bold'), text=\"5\",command=lambda:btnClick(5), bg=\"gray\").grid(row = 3, column = 1)\n",
    "bt6 = Button(win,padx=35, bd=8,fg=\"black\",font=('arial',20,'bold'), text=\"6\", command=lambda:btnClick(6),bg=\"gray\").grid(row = 3, column = 2)\n",
    "btn = Button(win,padx=30, bd=8,fg=\"black\",font=('arial',20,'bold'), text=\"-\", command=lambda:btnClick(\"-\"),bg=\"yellow\").grid(row = 3, column = 3)\n",
    "#Hàng 4:\n",
    "bt1 = Button(win,padx=35, bd=8,fg=\"black\",font=('arial',20,'bold'), text=\"1\", command=lambda:btnClick(1),bg=\"gray\").grid(row = 4, column = 0)\n",
    "bt2 = Button(win,padx=35, bd=8,fg=\"black\",font=('arial',20,'bold'), text=\"2\", command=lambda:btnClick(2),bg=\"gray\").grid(row = 4, column = 1)\n",
    "bt3 = Button(win,padx=35, bd=8,fg=\"black\",font=('arial',20,'bold'), text=\"3\", command=lambda:btnClick(3),bg=\"gray\").grid(row = 4, column = 2)\n",
    "btt = Button(win,padx=30, bd=8,fg=\"black\",font=('arial',20,'bold'), text=\"+\", command=lambda:btnClick(\"+\"),bg=\"yellow\").grid(row = 4, column = 3)\n",
    "#Hàng 5:\n",
    "btb = Button(win,padx=100, bd=8,fg=\"black\",font=('arial',20,'bold'), text=\"0\", command=lambda:btnClick(0),bg=\"gray\").grid(row = 5, column = 0, columnspan=2)\n",
    "btb = Button(win,padx=35, bd=8,fg=\"black\",font=('arial',20,'bold'), text=\",\", command=lambda:btnClick(\".\"),bg=\"gray\").grid(row = 5, column = 2)\n",
    "btc = Button(win,padx=30, bd=8,fg=\"black\",font=('arial',20,'bold'), text=\"=\", command=btnEquals,bg=\"yellow\").grid(row = 5, column = 3)\n",
    "win.mainloop()"
   ]
  },
  {
   "cell_type": "code",
   "execution_count": null,
   "metadata": {},
   "outputs": [],
   "source": []
  },
  {
   "cell_type": "code",
   "execution_count": null,
   "metadata": {},
   "outputs": [],
   "source": []
  }
 ],
 "metadata": {
  "kernelspec": {
   "display_name": "Python 3",
   "language": "python",
   "name": "python3"
  },
  "language_info": {
   "codemirror_mode": {
    "name": "ipython",
    "version": 3
   },
   "file_extension": ".py",
   "mimetype": "text/x-python",
   "name": "python",
   "nbconvert_exporter": "python",
   "pygments_lexer": "ipython3",
   "version": "3.7.6"
  }
 },
 "nbformat": 4,
 "nbformat_minor": 4
}
