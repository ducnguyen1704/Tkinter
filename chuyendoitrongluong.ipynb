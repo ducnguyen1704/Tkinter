{
 "cells": [
  {
   "cell_type": "markdown",
   "metadata": {},
   "source": [
    "# Bài tập chuyển đổi trọng lượng"
   ]
  },
  {
   "cell_type": "code",
   "execution_count": 4,
   "metadata": {},
   "outputs": [],
   "source": [
    "from tkinter import *\n",
    " \n",
    "window = Tk()\n",
    "  \n",
    "# Hàm chuyển đổi\n",
    "def from_kg():\n",
    "     \n",
    "    # convert kg to gram\n",
    "    gram = float(e2_value.get())*1000\n",
    "     \n",
    "    # convert kg to pound\n",
    "    pound = float(e2_value.get())*2.20462\n",
    "     \n",
    "    # convert kg to ounce\n",
    "    ounce = float(e2_value.get())*35.274\n",
    "     \n",
    "    # Enters the converted weight to\n",
    "    # the text widget\n",
    "    t1.delete(\"1.0\", END)\n",
    "    t1.insert(END,gram)\n",
    "     \n",
    "    t2.delete(\"1.0\", END)\n",
    "    t2.insert(END,pound)\n",
    "     \n",
    "    t3.delete(\"1.0\", END)\n",
    "    t3.insert(END,ounce)"
   ]
  },
  {
   "cell_type": "code",
   "execution_count": 5,
   "metadata": {},
   "outputs": [],
   "source": [
    "# Create the Label widgets\n",
    "e1 = Label(window, text = \"Enter the weight in Kg\")\n",
    "e2_value = StringVar()\n",
    "e2 = Entry(window, textvariable = e2_value)\n",
    "e3 = Label(window, text = 'Gram')\n",
    "e4 = Label(window, text = 'Pounds')\n",
    "e5 = Label(window, text = 'Ounce')\n",
    " \n",
    "# Create the Text Widgets\n",
    "t1 = Text(window, height = 1, width = 20)\n",
    "t2 = Text(window, height = 1, width = 20)\n",
    "t3 = Text(window, height = 1, width = 20)\n",
    " \n",
    "# Create the Button Widget\n",
    "b1 = Button(window, text = \"Convert\", command = from_kg)\n",
    " \n",
    "# grid method is used for placing\n",
    "# the widgets at respective positions\n",
    "# in table like structure\n",
    "e1.grid(row = 0, column = 0)\n",
    "e2.grid(row = 0, column = 1)\n",
    "e3.grid(row = 1, column = 0)\n",
    "e4.grid(row = 1, column = 1)\n",
    "e5.grid(row = 1, column = 2)\n",
    "t1.grid(row = 2, column = 0)\n",
    "t2.grid(row = 2, column = 1)\n",
    "t3.grid(row = 2, column = 2)\n",
    "b1.grid(row = 0, column = 2)\n",
    " \n",
    "# Start\n",
    "window.mainloop()"
   ]
  },
  {
   "cell_type": "code",
   "execution_count": null,
   "metadata": {},
   "outputs": [],
   "source": []
  }
 ],
 "metadata": {
  "kernelspec": {
   "display_name": "Python 3",
   "language": "python",
   "name": "python3"
  },
  "language_info": {
   "codemirror_mode": {
    "name": "ipython",
    "version": 3
   },
   "file_extension": ".py",
   "mimetype": "text/x-python",
   "name": "python",
   "nbconvert_exporter": "python",
   "pygments_lexer": "ipython3",
   "version": "3.7.6"
  }
 },
 "nbformat": 4,
 "nbformat_minor": 4
}
